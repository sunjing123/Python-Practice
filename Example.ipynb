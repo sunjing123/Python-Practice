{
 "cells": [
  {
   "cell_type": "markdown",
   "metadata": {},
   "source": [
    "<p style=\"font-family: Arial; font-size:2em;color:black;\">1 Data Type</p>"
   ]
  },
  {
   "cell_type": "markdown",
   "metadata": {},
   "source": [
    "<p style=\"font-family: Arial; font-size:1.3em;color:black;\"> 1.1 Integer</p>"
   ]
  },
  {
   "cell_type": "code",
   "execution_count": 1,
   "metadata": {},
   "outputs": [
    {
     "name": "stdout",
     "output_type": "stream",
     "text": [
      "1031 <class 'int'>\n"
     ]
    }
   ],
   "source": [
    "a=1031\n",
    "print(a,type(a))"
   ]
  },
  {
   "cell_type": "markdown",
   "metadata": {},
   "source": [
    "* Everything is object in python.\n",
    "* use dir(X) or help(X) to understand the obejct X type and method, "
   ]
  },
  {
   "cell_type": "markdown",
   "metadata": {},
   "source": [
    "<p style=\"font-family: Arial; font-size:1.3em;color:black;\"> 1.2 Float</p>"
   ]
  },
  {
   "cell_type": "code",
   "execution_count": 3,
   "metadata": {},
   "outputs": [
    {
     "name": "stdout",
     "output_type": "stream",
     "text": [
      "1 <class 'int'>\n",
      "1.0 <class 'float'>\n"
     ]
    }
   ],
   "source": [
    "print(1,type(1))\n",
    "print(1.,type(1.))"
   ]
  },
  {
   "cell_type": "markdown",
   "metadata": {},
   "source": [
    "* If want to save the n digit after decila, then we can use 'Decimal' & 'getcontext()' in package 'decimal' to implement. "
   ]
  },
  {
   "cell_type": "code",
   "execution_count": 7,
   "metadata": {},
   "outputs": [],
   "source": [
    "import decimal\n",
    "from decimal import Decimal"
   ]
  },
  {
   "cell_type": "code",
   "execution_count": 8,
   "metadata": {},
   "outputs": [
    {
     "data": {
      "text/plain": [
       "Context(prec=28, rounding=ROUND_HALF_EVEN, Emin=-999999, Emax=999999, capitals=1, clamp=0, flags=[], traps=[InvalidOperation, DivisionByZero, Overflow])"
      ]
     },
     "execution_count": 8,
     "metadata": {},
     "output_type": "execute_result"
    }
   ],
   "source": [
    "##use getcontext to adjust the precision of the digits after decimal. the default digit is 28\n",
    "decimal.getcontext()"
   ]
  },
  {
   "cell_type": "code",
   "execution_count": 14,
   "metadata": {},
   "outputs": [
    {
     "data": {
      "text/plain": [
       "Decimal('0.3333')"
      ]
     },
     "execution_count": 14,
     "metadata": {},
     "output_type": "execute_result"
    }
   ],
   "source": [
    "##example: 1/3 with 28 digits; \n",
    "d=Decimal(1)/Decimal(3)\n",
    "d"
   ]
  },
  {
   "cell_type": "code",
   "execution_count": 10,
   "metadata": {},
   "outputs": [
    {
     "data": {
      "text/plain": [
       "0.3333333333333333"
      ]
     },
     "execution_count": 10,
     "metadata": {},
     "output_type": "execute_result"
    }
   ],
   "source": [
    "d1=1./3.\n",
    "d1"
   ]
  },
  {
   "cell_type": "code",
   "execution_count": 15,
   "metadata": {},
   "outputs": [
    {
     "data": {
      "text/plain": [
       "Decimal('0.3333')"
      ]
     },
     "execution_count": 15,
     "metadata": {},
     "output_type": "execute_result"
    }
   ],
   "source": [
    "decimal.getcontext().prec=4\n",
    "e=Decimal(1)/Decimal(3)\n",
    "e"
   ]
  },
  {
   "cell_type": "code",
   "execution_count": 17,
   "metadata": {},
   "outputs": [
    {
     "data": {
      "text/plain": [
       "Decimal('0.6666')"
      ]
     },
     "execution_count": 17,
     "metadata": {},
     "output_type": "execute_result"
    }
   ],
   "source": [
    "d+e\n",
    "#only keep the short digit?"
   ]
  },
  {
   "cell_type": "markdown",
   "metadata": {},
   "source": [
    "<p style=\"font-family: Arial; font-size:1.3em;color:black;\"> 1.3 Boolean</p>"
   ]
  },
  {
   "cell_type": "markdown",
   "metadata": {},
   "source": [
    "* Boolean only has True and False (1,0)"
   ]
  },
  {
   "cell_type": "code",
   "execution_count": 18,
   "metadata": {},
   "outputs": [
    {
     "name": "stdout",
     "output_type": "stream",
     "text": [
      "3\n",
      "-8\n"
     ]
    }
   ],
   "source": [
    "T=True\n",
    "F=False\n",
    "print(T+2)\n",
    "print(F-8)"
   ]
  },
  {
   "cell_type": "markdown",
   "metadata": {},
   "source": [
    "* Except assign variable value to True or False, also can use bool(X) to create variable, x could be int, float, boolean and 字符、元组、列表、字典和集合 "
   ]
  },
  {
   "cell_type": "code",
   "execution_count": 24,
   "metadata": {},
   "outputs": [
    {
     "name": "stdout",
     "output_type": "stream",
     "text": [
      "<class 'int'> False True\n",
      "<class 'float'> True True\n",
      "<class 'float'> False\n",
      "<class 'bool'> False True\n"
     ]
    }
   ],
   "source": [
    "print( type(0), bool(0), bool(1) )\n",
    "print( type(10.31), bool(0.01), bool(10.31) )\n",
    "print(type(0.0),bool(0.0))\n",
    "print( type(True), bool(False), bool(True) )"
   ]
  },
  {
   "cell_type": "markdown",
   "metadata": {},
   "source": [
    "bool 作用在基本类型变量的总结：X 只要不是整型 0、浮点型 0.0，bool(X) 就是 True，其余就是 False。except when value is 0.00 or 0.0 or 0.0....对于数值变量，0, 0.0 都可认为是空的。"
   ]
  },
  {
   "cell_type": "code",
   "execution_count": 25,
   "metadata": {},
   "outputs": [
    {
     "name": "stdout",
     "output_type": "stream",
     "text": [
      "<class 'str'> False True\n",
      "<class 'tuple'> False True\n",
      "<class 'list'> False True\n",
      "<class 'dict'> False True\n",
      "<class 'set'> False True\n"
     ]
    }
   ],
   "source": [
    "print( type(''), bool( '' ), bool( 'python' ) )\n",
    "print( type(()), bool( () ), bool( (10,) ) )\n",
    "print( type([]), bool( [] ), bool( [1,2] ) )\n",
    "print( type({}), bool( {} ), bool( {'a':1, 'b':2} ) )\n",
    "print( type(set()), bool( set() ), bool( {1,2} ) )"
   ]
  },
  {
   "cell_type": "markdown",
   "metadata": {},
   "source": [
    "bool 作用在容器类型变量的总结：X 只要不是空的变量，bool(X) 就是 True，其余就是 False。"
   ]
  },
  {
   "cell_type": "markdown",
   "metadata": {},
   "source": [
    "<p style=\"font-family: Arial; font-size:2em;color:black;\"> 2.Container Type</p>"
   ]
  },
  {
   "cell_type": "markdown",
   "metadata": {},
   "source": [
    "Include: str, tuple, list, dict and set."
   ]
  },
  {
   "cell_type": "markdown",
   "metadata": {},
   "source": [
    "<p style=\"font-family: Arial; font-size:1.3em;color:black;\"> 2.1 str</p>"
   ]
  },
  {
   "cell_type": "markdown",
   "metadata": {},
   "source": [
    "* Use to deal with text, '' or \"\" to define."
   ]
  },
  {
   "cell_type": "code",
   "execution_count": 27,
   "metadata": {},
   "outputs": [
    {
     "name": "stdout",
     "output_type": "stream",
     "text": [
      "i love Python! <class 'str'>\n",
      "I love Python! <class 'str'>\n"
     ]
    }
   ],
   "source": [
    "t1 = 'i love Python!'\n",
    "print( t1, type(t1) )\n",
    "t2 = \"I love Python!\"\n",
    "print( t2, type(t2) )"
   ]
  },
  {
   "cell_type": "markdown",
   "metadata": {},
   "source": [
    "Methods to process 'str' data often:"
   ]
  },
  {
   "cell_type": "code",
   "execution_count": 29,
   "metadata": {},
   "outputs": [
    {
     "data": {
      "text/plain": [
       "'I love python!'"
      ]
     },
     "execution_count": 29,
     "metadata": {},
     "output_type": "execute_result"
    }
   ],
   "source": [
    "#capitalize first letter\n",
    "t1.capitalize()"
   ]
  },
  {
   "cell_type": "code",
   "execution_count": 30,
   "metadata": {},
   "outputs": [
    {
     "data": {
      "text/plain": [
       "['I', 'love', 'Python!']"
      ]
     },
     "execution_count": 30,
     "metadata": {},
     "output_type": "execute_result"
    }
   ],
   "source": [
    "#split sentence to word\n",
    "t2.split()"
   ]
  },
  {
   "cell_type": "code",
   "execution_count": 34,
   "metadata": {},
   "outputs": [
    {
     "name": "stdout",
     "output_type": "stream",
     "text": [
      "2\n",
      "-1\n"
     ]
    }
   ],
   "source": [
    "#find specified value in the list, if cant then return -1\n",
    "print(t1.find('love'))\n",
    "print(t1.find('like'))"
   ]
  },
  {
   "cell_type": "code",
   "execution_count": 35,
   "metadata": {},
   "outputs": [
    {
     "data": {
      "text/plain": [
       "'I hate R!'"
      ]
     },
     "execution_count": 35,
     "metadata": {},
     "output_type": "execute_result"
    }
   ],
   "source": [
    "#replace(x,y), replace x in sentence to y\n",
    "t2.replace( 'love Python', 'hate R' )"
   ]
  },
  {
   "cell_type": "code",
   "execution_count": 36,
   "metadata": {},
   "outputs": [
    {
     "name": "stdout",
     "output_type": "stream",
     "text": [
      "www.python.org\n",
      "http://www.python\n"
     ]
    }
   ],
   "source": [
    "#srip(x) delete from start or end of the sentence include x\n",
    "print( 'http://www.python.org'.strip('htp:/') )\n",
    "print( 'http://www.python.org'.strip('.org') )"
   ]
  },
  {
   "cell_type": "markdown",
   "metadata": {},
   "source": [
    "Indexing and slicing"
   ]
  },
  {
   "cell_type": "code",
   "execution_count": 37,
   "metadata": {},
   "outputs": [
    {
     "name": "stdout",
     "output_type": "stream",
     "text": [
      "Python\n",
      "th\n",
      "yth\n",
      "t\n",
      "n\n"
     ]
    }
   ],
   "source": [
    "s='Python'\n",
    "print(s)\n",
    "print(s[2:4])\n",
    "print(s[-5:-2])\n",
    "print(s[2])\n",
    "print(s[-1])"
   ]
  },
  {
   "cell_type": "markdown",
   "metadata": {},
   "source": [
    "* Python 里面索引有三个特点 (经常让人困惑)：\n",
    "\n",
    "从 0 开始 (和 C 一样)，不像 Matlab 从 1 开始;\n",
    "切片通常写成 start:end 这种形式，包括「start 索引」对应的元素，不包括「end索引」对应的元素。因此 s[2:4] 只获取字符串第 3 个到第 4 个元素;\n",
    "索引值可正可负，正索引从 0 开始，从左往右；负索引从 -1 开始，从右往左。使用负数索引时，会从最后一个元素开始计数。最后一个元素的位置编号是 -1。"
   ]
  },
  {
   "cell_type": "markdown",
   "metadata": {},
   "source": [
    "* regular expression (正则表达式): use to recognize the pattern\n",
    "  if we would like to extract the time by pattern, we can use '[0-9/:\\s]+', where:\n",
    "     a. '' use to show the start and end of the pattern.\n",
    "     b. []: all the data type in the str.\n",
    "     c. 0-9: number of the str.\n",
    "     d. /.\n",
    "     e. :.\n",
    "     f. \\s: space.\n",
    "     g. + outside [] represent the str inside [] at least appear once. "
   ]
  },
  {
   "cell_type": "code",
   "execution_count": 39,
   "metadata": {},
   "outputs": [
    {
     "data": {
      "text/plain": [
       "\"\\n'06/18/2019 13:00:00', 100, '1st';\\n'06/18/2019 13:30:00', 110, '2nd';\\n'06/18/2019 14:00:00', 120, '3rd'\\n\""
      ]
     },
     "execution_count": 39,
     "metadata": {},
     "output_type": "execute_result"
    }
   ],
   "source": [
    "input = \"\"\"\n",
    "'06/18/2019 13:00:00', 100, '1st';\n",
    "'06/18/2019 13:30:00', 110, '2nd';\n",
    "'06/18/2019 14:00:00', 120, '3rd'\n",
    "\"\"\"\n",
    "input"
   ]
  },
  {
   "cell_type": "code",
   "execution_count": 42,
   "metadata": {},
   "outputs": [
    {
     "data": {
      "text/plain": [
       "[\"'06/18/2019 13:00:00'\", \"'06/18/2019 13:30:00'\", \"'06/18/2019 14:00:00'\"]"
      ]
     },
     "execution_count": 42,
     "metadata": {},
     "output_type": "execute_result"
    }
   ],
   "source": [
    "import re\n",
    "pattern=re.compile(\"'[0-9/:\\s]+'\")\n",
    "pattern.findall(input)"
   ]
  },
  {
   "cell_type": "markdown",
   "metadata": {},
   "source": [
    "<p style=\"font-family: Arial; font-size:1.3em;color:black;\"> 2.2 tuple (元组)</p>\n"
   ]
  },
  {
   "cell_type": "markdown",
   "metadata": {},
   "source": [
    "* (a,b,c,d) is a tuple."
   ]
  },
  {
   "cell_type": "code",
   "execution_count": 43,
   "metadata": {},
   "outputs": [
    {
     "name": "stdout",
     "output_type": "stream",
     "text": [
      "(1, 10.31, 'python') <class 'tuple'>\n",
      "(1, 10.31, 'python') <class 'tuple'>\n"
     ]
    }
   ],
   "source": [
    "t1 = (1, 10.31, 'python')\n",
    "t2 = 1, 10.31, 'python'\n",
    "print( t1, type(t1) )\n",
    "print( t2, type(t2) )"
   ]
  },
  {
   "cell_type": "markdown",
   "metadata": {},
   "source": [
    "for single tuple need to add comma, otherwise will be recognize as str"
   ]
  },
  {
   "cell_type": "code",
   "execution_count": 44,
   "metadata": {},
   "outputs": [
    {
     "name": "stdout",
     "output_type": "stream",
     "text": [
      "<class 'str'>\n",
      "<class 'tuple'>\n"
     ]
    }
   ],
   "source": [
    "print( type( ('OK') ) )  # without comma , \n",
    "print( type( ('OK',) ) ) # with comma ,"
   ]
  },
  {
   "cell_type": "markdown",
   "metadata": {},
   "source": [
    "Could build tuple in multiple dimension"
   ]
  },
  {
   "cell_type": "code",
   "execution_count": 46,
   "metadata": {},
   "outputs": [
    {
     "data": {
      "text/plain": [
       "((1, 10.31, 'python'), ('data', 11))"
      ]
     },
     "execution_count": 46,
     "metadata": {},
     "output_type": "execute_result"
    }
   ],
   "source": [
    "nested = (1, 10.31, 'python'), ('data', 11)\n",
    "nested"
   ]
  },
  {
   "cell_type": "markdown",
   "metadata": {},
   "source": [
    "Indexing and slicing:\n",
    "In a loose defination, it is extract one element or a group of element."
   ]
  },
  {
   "cell_type": "code",
   "execution_count": 48,
   "metadata": {},
   "outputs": [
    {
     "name": "stdout",
     "output_type": "stream",
     "text": [
      "(1, 10.31, 'python')\n",
      "1 10.31 python\n"
     ]
    }
   ],
   "source": [
    "#indexing\n",
    "print(nested[0])\n",
    "print( nested[0][0], nested[0][1], nested[0][2] )"
   ]
  },
  {
   "cell_type": "code",
   "execution_count": 49,
   "metadata": {},
   "outputs": [
    {
     "data": {
      "text/plain": [
       "(1, 10.31)"
      ]
     },
     "execution_count": 49,
     "metadata": {},
     "output_type": "execute_result"
    }
   ],
   "source": [
    "#slicing\n",
    "nested[0][0:2] "
   ]
  },
  {
   "cell_type": "markdown",
   "metadata": {},
   "source": [
    "* tuple is immutable(不可更改). so that cant assign value to tuple. However, element in tuple is mutable. we can change the element.NOT SAME WITH ASSIGN VALUE TO ELEMENT. "
   ]
  },
  {
   "cell_type": "code",
   "execution_count": 60,
   "metadata": {},
   "outputs": [
    {
     "ename": "TypeError",
     "evalue": "'tuple' object does not support item assignment",
     "output_type": "error",
     "traceback": [
      "\u001b[1;31m---------------------------------------------------------------------------\u001b[0m",
      "\u001b[1;31mTypeError\u001b[0m                                 Traceback (most recent call last)",
      "\u001b[1;32m<ipython-input-60-c42e6a87746c>\u001b[0m in \u001b[0;36m<module>\u001b[1;34m()\u001b[0m\n\u001b[0;32m      1\u001b[0m \u001b[1;31m#example of error\u001b[0m\u001b[1;33m\u001b[0m\u001b[1;33m\u001b[0m\u001b[0m\n\u001b[0;32m      2\u001b[0m \u001b[0mt\u001b[0m \u001b[1;33m=\u001b[0m \u001b[1;33m(\u001b[0m\u001b[1;34m'OK'\u001b[0m\u001b[1;33m,\u001b[0m \u001b[1;33m[\u001b[0m\u001b[1;36m1\u001b[0m\u001b[1;33m,\u001b[0m \u001b[1;36m2\u001b[0m\u001b[1;33m]\u001b[0m\u001b[1;33m,\u001b[0m \u001b[1;32mTrue\u001b[0m\u001b[1;33m)\u001b[0m\u001b[1;33m\u001b[0m\u001b[0m\n\u001b[1;32m----> 3\u001b[1;33m \u001b[0mt\u001b[0m\u001b[1;33m[\u001b[0m\u001b[1;36m2\u001b[0m\u001b[1;33m]\u001b[0m \u001b[1;33m=\u001b[0m \u001b[1;32mFalse\u001b[0m\u001b[1;33m\u001b[0m\u001b[0m\n\u001b[0m",
      "\u001b[1;31mTypeError\u001b[0m: 'tuple' object does not support item assignment"
     ]
    }
   ],
   "source": [
    "#example of error\n",
    "t = ('OK', [1, 2], True)\n",
    "t[2] = False"
   ]
  },
  {
   "cell_type": "code",
   "execution_count": 61,
   "metadata": {},
   "outputs": [
    {
     "name": "stdout",
     "output_type": "stream",
     "text": [
      "('OK', [1, 2], True)\n",
      "('OK', [1, 2, 3], True)\n"
     ]
    }
   ],
   "source": [
    "print(t) #before\n",
    "t[1].append(3)\n",
    "print(t) #after"
   ]
  },
  {
   "cell_type": "markdown",
   "metadata": {},
   "source": [
    "* size and content of tuple is immutable, so only have count and index"
   ]
  },
  {
   "cell_type": "code",
   "execution_count": 63,
   "metadata": {},
   "outputs": [
    {
     "name": "stdout",
     "output_type": "stream",
     "text": [
      "1\n",
      "1\n"
     ]
    }
   ],
   "source": [
    "t = (1, 10.31, 'python')\n",
    "print( t.count('python') ) ##shows how many times 'python' appears\n",
    "print( t.index(10.31) ) ## shows what is the index of 10.31 -- location"
   ]
  },
  {
   "cell_type": "markdown",
   "metadata": {},
   "source": [
    "* how to concatenate tuple. use '+' or '*'"
   ]
  },
  {
   "cell_type": "code",
   "execution_count": 64,
   "metadata": {},
   "outputs": [
    {
     "data": {
      "text/plain": [
       "(1, 10.31, 'python', 1, 10.31, 'python')"
      ]
     },
     "execution_count": 64,
     "metadata": {},
     "output_type": "execute_result"
    }
   ],
   "source": [
    "(1, 10.31, 'python') + ('data', 11) + ('OK',)\n",
    "(1, 10.31, 'python') * 2"
   ]
  },
  {
   "cell_type": "markdown",
   "metadata": {},
   "source": [
    "* unpack the tuple"
   ]
  },
  {
   "cell_type": "code",
   "execution_count": 65,
   "metadata": {},
   "outputs": [
    {
     "name": "stdout",
     "output_type": "stream",
     "text": [
      "1 10.31 python\n"
     ]
    }
   ],
   "source": [
    "t = (1, 10.31, 'python')\n",
    "(a, b, c) = t\n",
    "print( a, b, c )"
   ]
  },
  {
   "cell_type": "code",
   "execution_count": 66,
   "metadata": {},
   "outputs": [
    {
     "name": "stdout",
     "output_type": "stream",
     "text": [
      "1 10.31 OK python\n"
     ]
    }
   ],
   "source": [
    "# more than one dimension\n",
    "t = (1, 10.31, ('OK','python'))\n",
    "(a, b, (c,d)) = t\n",
    "print( a, b, c, d )"
   ]
  },
  {
   "cell_type": "code",
   "execution_count": 67,
   "metadata": {},
   "outputs": [
    {
     "name": "stdout",
     "output_type": "stream",
     "text": [
      "1 2 5\n",
      "[3, 4]\n"
     ]
    }
   ],
   "source": [
    "t = 1, 2, 3, 4, 5\n",
    "a, b, *rest, c = t # * is call wildcard, being one or more elemnts, in the case it is just assign the other elements to rest.\n",
    "print( a, b, c )\n",
    "print( rest )"
   ]
  },
  {
   "cell_type": "code",
   "execution_count": 68,
   "metadata": {},
   "outputs": [
    {
     "name": "stdout",
     "output_type": "stream",
     "text": [
      "1 2\n"
     ]
    }
   ],
   "source": [
    "#if totally dont care about the rest variable, when use * with _\n",
    "a,b,*_=t\n",
    "print(a,b)"
   ]
  },
  {
   "cell_type": "markdown",
   "metadata": {},
   "source": [
    "pros & cons\n",
    "pros: 占内存小，安全，创建遍历速度比列表快，可一赋多值。\n",
    "cons: 不能添加和更改元素。"
   ]
  },
  {
   "cell_type": "code",
   "execution_count": 1,
   "metadata": {},
   "outputs": [
    {
     "name": "stdout",
     "output_type": "stream",
     "text": [
      "110 ns ± 9.98 ns per loop (mean ± std. dev. of 7 runs, 10000000 loops each)\n",
      "24.8 ns ± 3.02 ns per loop (mean ± std. dev. of 7 runs, 10000000 loops each)\n"
     ]
    }
   ],
   "source": [
    "%timeit [1, 2, 3, 4, 5]\n",
    "%timeit (1, 2, 3, 4, 5)"
   ]
  },
  {
   "cell_type": "code",
   "execution_count": 3,
   "metadata": {},
   "outputs": [
    {
     "name": "stdout",
     "output_type": "stream",
     "text": [
      "1.35 ms ± 159 µs per loop (mean ± std. dev. of 7 runs, 1000 loops each)\n",
      "1.39 ms ± 230 µs per loop (mean ± std. dev. of 7 runs, 1000 loops each)\n"
     ]
    }
   ],
   "source": [
    "#遍历\n",
    "lst = [i for i in range(65535)]\n",
    "tup = tuple(i for i in range(65535))\n",
    "%timeit for each in lst: pass\n",
    "%timeit for each in tup: pass"
   ]
  },
  {
   "cell_type": "code",
   "execution_count": 4,
   "metadata": {},
   "outputs": [
    {
     "name": "stdout",
     "output_type": "stream",
     "text": [
      "578936\n",
      "524328\n"
     ]
    }
   ],
   "source": [
    "# take space\n",
    "from sys import getsizeof\n",
    "print( getsizeof(lst) )\n",
    "print( getsizeof(tup) )"
   ]
  },
  {
   "cell_type": "markdown",
   "metadata": {},
   "source": [
    "2.3 List\n",
    "* list =[element1, element2, ...]"
   ]
  },
  {
   "cell_type": "code",
   "execution_count": 20,
   "metadata": {},
   "outputs": [
    {
     "name": "stdout",
     "output_type": "stream",
     "text": [
      "[1, 10.31, 'python'] <class 'list'>\n"
     ]
    }
   ],
   "source": [
    "l = [1, 10.31,'python']\n",
    "print(l, type(l))"
   ]
  },
  {
   "cell_type": "markdown",
   "metadata": {},
   "source": [
    "Not like tuple, list is mutable, could be append, extend, insert, remove (pop)"
   ]
  },
  {
   "cell_type": "markdown",
   "metadata": {},
   "source": [
    "* append:take all values as one element and add to the end\n",
    "* extend:add one by one to the end and each of them is one element"
   ]
  },
  {
   "cell_type": "code",
   "execution_count": 21,
   "metadata": {},
   "outputs": [
    {
     "name": "stdout",
     "output_type": "stream",
     "text": [
      "[1, 10.31, 'python', [4, 3]]\n",
      "[1, 10.31, 'python', [4, 3], 1.5, 2.0, 'OK']\n"
     ]
    }
   ],
   "source": [
    "l.append([4, 3])\n",
    "print( l )\n",
    "l.extend([1.5, 2.0, 'OK'])\n",
    "print( l )"
   ]
  },
  {
   "cell_type": "markdown",
   "metadata": {},
   "source": [
    "* insert value x in front of index i"
   ]
  },
  {
   "cell_type": "code",
   "execution_count": 23,
   "metadata": {},
   "outputs": [
    {
     "data": {
      "text/plain": [
       "[1, 'abc', 'abc', 10.31, 'python', [4, 3], 1.5, 2.0, 'OK']"
      ]
     },
     "execution_count": 23,
     "metadata": {},
     "output_type": "execute_result"
    }
   ],
   "source": [
    "l.insert(1,'abc')\n",
    "a=l\n",
    "l"
   ]
  },
  {
   "cell_type": "markdown",
   "metadata": {},
   "source": [
    "* remove or pop"
   ]
  },
  {
   "cell_type": "code",
   "execution_count": 24,
   "metadata": {},
   "outputs": [
    {
     "data": {
      "text/plain": [
       "[1, 'abc', 'abc', 10.31, [4, 3], 1.5, 2.0, 'OK']"
      ]
     },
     "execution_count": 24,
     "metadata": {},
     "output_type": "execute_result"
    }
   ],
   "source": [
    "l.remove('python') #remove the first occurrence of object\n",
    "l"
   ]
  },
  {
   "cell_type": "code",
   "execution_count": 25,
   "metadata": {},
   "outputs": [
    {
     "name": "stdout",
     "output_type": "stream",
     "text": [
      "10.31\n",
      "[1, 'abc', 'abc', [4, 3], 1.5, 2.0, 'OK']\n",
      "[1, 'abc', 'abc', [4, 3], 1.5, 2.0, 'OK']\n"
     ]
    }
   ],
   "source": [
    "p = a.pop(3) # removes and returns object at index.  Only only pop 1 index position at any time.\n",
    "print( p )\n",
    "print(a)\n",
    "print( l )"
   ]
  },
  {
   "cell_type": "code",
   "execution_count": null,
   "metadata": {},
   "outputs": [],
   "source": []
  },
  {
   "cell_type": "code",
   "execution_count": null,
   "metadata": {},
   "outputs": [],
   "source": []
  },
  {
   "cell_type": "code",
   "execution_count": null,
   "metadata": {},
   "outputs": [],
   "source": []
  }
 ],
 "metadata": {
  "kernelspec": {
   "display_name": "Python 3",
   "language": "python",
   "name": "python3"
  },
  "language_info": {
   "codemirror_mode": {
    "name": "ipython",
    "version": 3
   },
   "file_extension": ".py",
   "mimetype": "text/x-python",
   "name": "python",
   "nbconvert_exporter": "python",
   "pygments_lexer": "ipython3",
   "version": "3.6.5"
  }
 },
 "nbformat": 4,
 "nbformat_minor": 2
}
